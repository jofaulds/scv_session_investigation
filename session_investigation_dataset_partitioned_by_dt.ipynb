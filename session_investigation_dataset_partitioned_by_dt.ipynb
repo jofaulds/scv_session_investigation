{
 "cells": [
  {
   "cell_type": "markdown",
   "metadata": {},
   "source": [
    "In this notebook we calculated user sessions from logged data. \n",
    "We compared our calculated sessions to visit_ids that are defined in the client code.\n",
    "https://jira.dev.bbc.co.uk/browse/DATALAB-1950"
   ]
  },
  {
   "cell_type": "markdown",
   "metadata": {},
   "source": [
    "SQL query partitioned by dt\n",
    "```sql\n",
    "WITH \n",
    "aux AS\n",
    "(\n",
    "  SELECT\n",
    "  hashed_id,\n",
    "  from_big_endian_64(xxhash64(to_utf8(hashed_id))) AS user_id,\n",
    "  source,\n",
    "  page_name,\n",
    "  visit_id,\n",
    "  time_spent_per_visit,\n",
    "  dt,\n",
    "  event_start_datetime,\n",
    "  LAG(event_start_datetime) OVER(PARTITION BY hashed_id ORDER BY event_start_datetime) AS previous_time\n",
    "FROM \"audience\".\"audience_activity\"\n",
    "WHERE dt BETWEEN '20190901'AND '20190930'\n",
    "AND hashed_id is NOT null AND NOT hashed_id='undefined'\n",
    "AND destination='PS_VOICE'\n",
    "AND from_big_endian_64(xxhash64(to_utf8(hashed_id))) % 500= 42\n",
    "),\n",
    "\n",
    "aux2 AS\n",
    "(\n",
    "    SELECT *\n",
    "    , date_diff('minute',date_parse(previous_time,'%Y-%m-%dT%H:%i:%s')\n",
    "    , date_parse(event_start_datetime,'%Y-%m-%dT%H:%i:%s')) as difference\n",
    "    FROM aux\n",
    "),\n",
    "\n",
    "aux3 AS\n",
    "(\n",
    "    SELECT *, \n",
    "    CASE\n",
    "        WHEN 0<=difference and difference <=30 THEN 0\n",
    "        WHEN difference>30 THEN 1\n",
    "        -- this case catches the first session for each user\n",
    "        WHEN difference IS NULL THEN 1\n",
    "    END AS session_boolean\n",
    "  \n",
    "FROM aux2\n",
    ")\n",
    "  \n",
    "SELECT \n",
    "*, \n",
    "SUM(session_boolean) OVER(PARTITION BY dt ORDER BY user_id, event_start_datetime) AS session_id\n",
    "FROM aux3\n",
    "```"
   ]
  },
  {
   "cell_type": "code",
   "execution_count": 1,
   "metadata": {},
   "outputs": [],
   "source": [
    "import pandas as pd\n",
    "import matplotlib\n",
    "import matplotlib.pyplot as plt\n",
    "import numpy as np\n",
    "import matplotlib.pyplot as plt\n",
    "%matplotlib inline\n",
    "pd.set_option('display.max_rows', 500)"
   ]
  },
  {
   "cell_type": "code",
   "execution_count": 2,
   "metadata": {},
   "outputs": [],
   "source": [
    "df=pd.read_csv(\"data/partitionedbydt.csv\")"
   ]
  },
  {
   "cell_type": "code",
   "execution_count": 3,
   "metadata": {},
   "outputs": [
    {
     "data": {
      "text/plain": [
       "hashed_id                 376\n",
       "user_id                   376\n",
       "source                      2\n",
       "page_name                 193\n",
       "visit_id                 9920\n",
       "time_spent_per_visit       10\n",
       "dt                         30\n",
       "event_start_datetime    31189\n",
       "previous_time           31020\n",
       "difference               2461\n",
       "session_boolean             2\n",
       "session_id                361\n",
       "dtype: int64"
      ]
     },
     "execution_count": 3,
     "metadata": {},
     "output_type": "execute_result"
    }
   ],
   "source": [
    "df.nunique()"
   ]
  },
  {
   "cell_type": "markdown",
   "metadata": {},
   "source": [
    "Session_id is a session id that we calculated, visit_id is a a session_id present in a client code\n",
    "Both of these fields are partioned by dt (i.e. the count of sessions/visits resets at midnight), so they need to be combined with dt to give us a unique field."
   ]
  },
  {
   "cell_type": "code",
   "execution_count": 43,
   "metadata": {},
   "outputs": [],
   "source": [
    "#Create a unique session id by combining a daily session id with dt\n",
    "def create_session_id(row):\n",
    "    return str(row[\"dt\"]) + str(row.session_id)\n",
    "\n",
    "df = (\n",
    "    df\n",
    "    .assign(session_id_date = df.apply(create_session_id, axis=1))\n",
    ")"
   ]
  },
  {
   "cell_type": "code",
   "execution_count": 44,
   "metadata": {},
   "outputs": [
    {
     "data": {
      "text/plain": [
       "hashed_id                  376\n",
       "user_id                    376\n",
       "source                       2\n",
       "page_name                  193\n",
       "visit_id                  9920\n",
       "time_spent_per_visit        10\n",
       "dt                          30\n",
       "event_start_datetime     31189\n",
       "previous_time            31020\n",
       "difference                2461\n",
       "session_boolean              2\n",
       "non_unique_session_id      361\n",
       "session_id                9297\n",
       "visit_id_date             9973\n",
       "session_id_date           9297\n",
       "dtype: int64"
      ]
     },
     "execution_count": 44,
     "metadata": {},
     "output_type": "execute_result"
    }
   ],
   "source": [
    "df.nunique()"
   ]
  },
  {
   "cell_type": "code",
   "execution_count": 45,
   "metadata": {},
   "outputs": [
    {
     "data": {
      "text/html": [
       "<div>\n",
       "<style scoped>\n",
       "    .dataframe tbody tr th:only-of-type {\n",
       "        vertical-align: middle;\n",
       "    }\n",
       "\n",
       "    .dataframe tbody tr th {\n",
       "        vertical-align: top;\n",
       "    }\n",
       "\n",
       "    .dataframe thead th {\n",
       "        text-align: right;\n",
       "    }\n",
       "</style>\n",
       "<table border=\"1\" class=\"dataframe\">\n",
       "  <thead>\n",
       "    <tr style=\"text-align: right;\">\n",
       "      <th></th>\n",
       "      <th>hashed_id</th>\n",
       "      <th>user_id</th>\n",
       "      <th>source</th>\n",
       "      <th>page_name</th>\n",
       "      <th>visit_id</th>\n",
       "      <th>time_spent_per_visit</th>\n",
       "      <th>dt</th>\n",
       "      <th>event_start_datetime</th>\n",
       "      <th>previous_time</th>\n",
       "      <th>difference</th>\n",
       "      <th>session_boolean</th>\n",
       "      <th>non_unique_session_id</th>\n",
       "      <th>session_id</th>\n",
       "      <th>visit_id_date</th>\n",
       "      <th>session_id_date</th>\n",
       "    </tr>\n",
       "  </thead>\n",
       "  <tbody>\n",
       "    <tr>\n",
       "      <td>0</td>\n",
       "      <td>vHRgE-2BMz5B4AckjtLEy7RU-K71gHYacii4YxblfRQ</td>\n",
       "      <td>42194686999630042</td>\n",
       "      <td>Events</td>\n",
       "      <td>voice.alexa.amazon-direct-routed-radio.page</td>\n",
       "      <td>406561</td>\n",
       "      <td>Between 2 mins and 5 mins</td>\n",
       "      <td>20190925</td>\n",
       "      <td>2019-09-25T06:05:44</td>\n",
       "      <td>2019-09-24T07:34:12</td>\n",
       "      <td>1351.0</td>\n",
       "      <td>1</td>\n",
       "      <td>1</td>\n",
       "      <td>201909251</td>\n",
       "      <td>20190925406561</td>\n",
       "      <td>20190925201909251</td>\n",
       "    </tr>\n",
       "    <tr>\n",
       "      <td>1</td>\n",
       "      <td>vHRgE-2BMz5B4AckjtLEy7RU-K71gHYacii4YxblfRQ</td>\n",
       "      <td>42194686999630042</td>\n",
       "      <td>Events</td>\n",
       "      <td>voice.alexa.radio.play-radio.page</td>\n",
       "      <td>406561</td>\n",
       "      <td>Between 2 mins and 5 mins</td>\n",
       "      <td>20190925</td>\n",
       "      <td>2019-09-25T06:05:50</td>\n",
       "      <td>2019-09-25T06:05:44</td>\n",
       "      <td>0.0</td>\n",
       "      <td>0</td>\n",
       "      <td>1</td>\n",
       "      <td>201909251</td>\n",
       "      <td>20190925406561</td>\n",
       "      <td>20190925201909251</td>\n",
       "    </tr>\n",
       "    <tr>\n",
       "      <td>2</td>\n",
       "      <td>vHRgE-2BMz5B4AckjtLEy7RU-K71gHYacii4YxblfRQ</td>\n",
       "      <td>42194686999630042</td>\n",
       "      <td>AV</td>\n",
       "      <td>bbc radio four extra</td>\n",
       "      <td>406561</td>\n",
       "      <td>Between 2 mins and 5 mins</td>\n",
       "      <td>20190925</td>\n",
       "      <td>2019-09-25T06:05:50</td>\n",
       "      <td>2019-09-25T06:05:50</td>\n",
       "      <td>0.0</td>\n",
       "      <td>0</td>\n",
       "      <td>1</td>\n",
       "      <td>201909251</td>\n",
       "      <td>20190925406561</td>\n",
       "      <td>20190925201909251</td>\n",
       "    </tr>\n",
       "    <tr>\n",
       "      <td>3</td>\n",
       "      <td>vHRgE-2BMz5B4AckjtLEy7RU-K71gHYacii4YxblfRQ</td>\n",
       "      <td>42194686999630042</td>\n",
       "      <td>Events</td>\n",
       "      <td>voice.alexa.radio.pause-radio.page</td>\n",
       "      <td>406561</td>\n",
       "      <td>Between 2 mins and 5 mins</td>\n",
       "      <td>20190925</td>\n",
       "      <td>2019-09-25T06:08:43</td>\n",
       "      <td>2019-09-25T06:05:50</td>\n",
       "      <td>2.0</td>\n",
       "      <td>0</td>\n",
       "      <td>1</td>\n",
       "      <td>201909251</td>\n",
       "      <td>20190925406561</td>\n",
       "      <td>20190925201909251</td>\n",
       "    </tr>\n",
       "    <tr>\n",
       "      <td>4</td>\n",
       "      <td>vHRgE-2BMz5B4AckjtLEy7RU-K71gHYacii4YxblfRQ</td>\n",
       "      <td>42194686999630042</td>\n",
       "      <td>AV</td>\n",
       "      <td>bbc radio four extra</td>\n",
       "      <td>406561</td>\n",
       "      <td>Between 2 mins and 5 mins</td>\n",
       "      <td>20190925</td>\n",
       "      <td>2019-09-25T06:08:43</td>\n",
       "      <td>2019-09-25T06:08:43</td>\n",
       "      <td>0.0</td>\n",
       "      <td>0</td>\n",
       "      <td>1</td>\n",
       "      <td>201909251</td>\n",
       "      <td>20190925406561</td>\n",
       "      <td>20190925201909251</td>\n",
       "    </tr>\n",
       "  </tbody>\n",
       "</table>\n",
       "</div>"
      ],
      "text/plain": [
       "                                     hashed_id            user_id  source  \\\n",
       "0  vHRgE-2BMz5B4AckjtLEy7RU-K71gHYacii4YxblfRQ  42194686999630042  Events   \n",
       "1  vHRgE-2BMz5B4AckjtLEy7RU-K71gHYacii4YxblfRQ  42194686999630042  Events   \n",
       "2  vHRgE-2BMz5B4AckjtLEy7RU-K71gHYacii4YxblfRQ  42194686999630042      AV   \n",
       "3  vHRgE-2BMz5B4AckjtLEy7RU-K71gHYacii4YxblfRQ  42194686999630042  Events   \n",
       "4  vHRgE-2BMz5B4AckjtLEy7RU-K71gHYacii4YxblfRQ  42194686999630042      AV   \n",
       "\n",
       "                                     page_name  visit_id  \\\n",
       "0  voice.alexa.amazon-direct-routed-radio.page    406561   \n",
       "1            voice.alexa.radio.play-radio.page    406561   \n",
       "2                         bbc radio four extra    406561   \n",
       "3           voice.alexa.radio.pause-radio.page    406561   \n",
       "4                         bbc radio four extra    406561   \n",
       "\n",
       "        time_spent_per_visit        dt event_start_datetime  \\\n",
       "0  Between 2 mins and 5 mins  20190925  2019-09-25T06:05:44   \n",
       "1  Between 2 mins and 5 mins  20190925  2019-09-25T06:05:50   \n",
       "2  Between 2 mins and 5 mins  20190925  2019-09-25T06:05:50   \n",
       "3  Between 2 mins and 5 mins  20190925  2019-09-25T06:08:43   \n",
       "4  Between 2 mins and 5 mins  20190925  2019-09-25T06:08:43   \n",
       "\n",
       "         previous_time  difference  session_boolean  non_unique_session_id  \\\n",
       "0  2019-09-24T07:34:12      1351.0                1                      1   \n",
       "1  2019-09-25T06:05:44         0.0                0                      1   \n",
       "2  2019-09-25T06:05:50         0.0                0                      1   \n",
       "3  2019-09-25T06:05:50         2.0                0                      1   \n",
       "4  2019-09-25T06:08:43         0.0                0                      1   \n",
       "\n",
       "  session_id   visit_id_date    session_id_date  \n",
       "0  201909251  20190925406561  20190925201909251  \n",
       "1  201909251  20190925406561  20190925201909251  \n",
       "2  201909251  20190925406561  20190925201909251  \n",
       "3  201909251  20190925406561  20190925201909251  \n",
       "4  201909251  20190925406561  20190925201909251  "
      ]
     },
     "execution_count": 45,
     "metadata": {},
     "output_type": "execute_result"
    }
   ],
   "source": [
    "# From our research we know that the visit_id field is not unique on its own (it's a count of visitors of a particular website each day).\n",
    "# We will combine it with the dt field to make it unique.\n",
    "def create_visit_id_date(row):\n",
    "    return str(row[\"dt\"]) + str(row.visit_id)\n",
    "\n",
    "df = (\n",
    "    df\n",
    "    .assign(visit_id_date = df.apply(create_visit_id_date, axis=1))\n",
    ")\n",
    "\n",
    "df.head()"
   ]
  },
  {
   "cell_type": "code",
   "execution_count": 46,
   "metadata": {},
   "outputs": [
    {
     "data": {
      "text/plain": [
       "9973"
      ]
     },
     "execution_count": 46,
     "metadata": {},
     "output_type": "execute_result"
    }
   ],
   "source": [
    "df['visit_id_date'].nunique()"
   ]
  },
  {
   "cell_type": "code",
   "execution_count": 47,
   "metadata": {},
   "outputs": [
    {
     "data": {
      "text/plain": [
       "session_id_date    9297\n",
       "visit_id_date      9973\n",
       "dtype: int64"
      ]
     },
     "execution_count": 47,
     "metadata": {},
     "output_type": "execute_result"
    }
   ],
   "source": [
    "#Comparison between session_id and visit_id.\n",
    "dist=pd.DataFrame(df[['session_id_date','visit_id_date',]].copy(), columns=['session_id_date','visit_id_date'])\n",
    "dist.nunique()"
   ]
  },
  {
   "cell_type": "markdown",
   "metadata": {},
   "source": [
    "There are more unique visit_ids than session_ids. \n",
    "We would expect than on average an individual session_id encompasses more events than a visit_id.\n",
    "Also, the same session_id might have a few different visit_ids assign to it (the total number of events adds up)."
   ]
  },
  {
   "cell_type": "code",
   "execution_count": 48,
   "metadata": {},
   "outputs": [
    {
     "data": {
      "text/html": [
       "<div>\n",
       "<style scoped>\n",
       "    .dataframe tbody tr th:only-of-type {\n",
       "        vertical-align: middle;\n",
       "    }\n",
       "\n",
       "    .dataframe tbody tr th {\n",
       "        vertical-align: top;\n",
       "    }\n",
       "\n",
       "    .dataframe thead th {\n",
       "        text-align: right;\n",
       "    }\n",
       "</style>\n",
       "<table border=\"1\" class=\"dataframe\">\n",
       "  <thead>\n",
       "    <tr style=\"text-align: right;\">\n",
       "      <th></th>\n",
       "      <th>visit_id_date</th>\n",
       "      <th>session_id_date</th>\n",
       "    </tr>\n",
       "  </thead>\n",
       "  <tbody>\n",
       "    <tr>\n",
       "      <td>0</td>\n",
       "      <td>20190925406561</td>\n",
       "      <td>20190925201909251</td>\n",
       "    </tr>\n",
       "    <tr>\n",
       "      <td>10</td>\n",
       "      <td>201909254317721</td>\n",
       "      <td>20190925201909252</td>\n",
       "    </tr>\n",
       "    <tr>\n",
       "      <td>15</td>\n",
       "      <td>20190925360691</td>\n",
       "      <td>20190925201909253</td>\n",
       "    </tr>\n",
       "    <tr>\n",
       "      <td>18</td>\n",
       "      <td>20190925967021</td>\n",
       "      <td>20190925201909254</td>\n",
       "    </tr>\n",
       "    <tr>\n",
       "      <td>19</td>\n",
       "      <td>20190925174381</td>\n",
       "      <td>20190925201909255</td>\n",
       "    </tr>\n",
       "    <tr>\n",
       "      <td>...</td>\n",
       "      <td>...</td>\n",
       "      <td>...</td>\n",
       "    </tr>\n",
       "    <tr>\n",
       "      <td>48967</td>\n",
       "      <td>201909201043381</td>\n",
       "      <td>2019092020190920317</td>\n",
       "    </tr>\n",
       "    <tr>\n",
       "      <td>48968</td>\n",
       "      <td>201909203670771</td>\n",
       "      <td>2019092020190920318</td>\n",
       "    </tr>\n",
       "    <tr>\n",
       "      <td>48971</td>\n",
       "      <td>201909203939741</td>\n",
       "      <td>2019092020190920319</td>\n",
       "    </tr>\n",
       "    <tr>\n",
       "      <td>48972</td>\n",
       "      <td>201909201445702</td>\n",
       "      <td>2019092020190920320</td>\n",
       "    </tr>\n",
       "    <tr>\n",
       "      <td>48982</td>\n",
       "      <td>201909202239072</td>\n",
       "      <td>2019092020190920321</td>\n",
       "    </tr>\n",
       "  </tbody>\n",
       "</table>\n",
       "<p>9973 rows × 2 columns</p>\n",
       "</div>"
      ],
      "text/plain": [
       "         visit_id_date      session_id_date\n",
       "0       20190925406561    20190925201909251\n",
       "10     201909254317721    20190925201909252\n",
       "15      20190925360691    20190925201909253\n",
       "18      20190925967021    20190925201909254\n",
       "19      20190925174381    20190925201909255\n",
       "...                ...                  ...\n",
       "48967  201909201043381  2019092020190920317\n",
       "48968  201909203670771  2019092020190920318\n",
       "48971  201909203939741  2019092020190920319\n",
       "48972  201909201445702  2019092020190920320\n",
       "48982  201909202239072  2019092020190920321\n",
       "\n",
       "[9973 rows x 2 columns]"
      ]
     },
     "execution_count": 48,
     "metadata": {},
     "output_type": "execute_result"
    }
   ],
   "source": [
    "#count unique combinations\n",
    "df_noduplicates=df[['visit_id_date','session_id_date',]].drop_duplicates()\n",
    "df_noduplicates"
   ]
  },
  {
   "cell_type": "code",
   "execution_count": 49,
   "metadata": {},
   "outputs": [
    {
     "data": {
      "text/plain": [
       "2019090120190901109    5\n",
       "201909092019090980     5\n",
       "2019090820190908119    4\n",
       "2019092120190921205    4\n",
       "201909052019090527     4\n",
       "                      ..\n",
       "2019092320190923309    1\n",
       "201909222019092229     1\n",
       "2019091220190912165    1\n",
       "2019090920190909194    1\n",
       "201909222019092247     1\n",
       "Name: session_id_date, Length: 9297, dtype: int64"
      ]
     },
     "execution_count": 49,
     "metadata": {},
     "output_type": "execute_result"
    }
   ],
   "source": [
    "#Count how many visit_id fields belong to an individual session_id.\n",
    "df_noduplicates['session_id_date'].value_counts()"
   ]
  },
  {
   "cell_type": "code",
   "execution_count": 50,
   "metadata": {},
   "outputs": [
    {
     "data": {
      "text/plain": [
       "Text(0.5, 0, 'Number of visit_ids with the same session_id')"
      ]
     },
     "execution_count": 50,
     "metadata": {},
     "output_type": "execute_result"
    },
    {
     "data": {
      "image/png": "[encoded data removed]",
      "text/plain": [
       "<Figure size 720x576 with 1 Axes>"
      ]
     },
     "metadata": {
      "needs_background": "light"
     },
     "output_type": "display_data"
    }
   ],
   "source": [
    "plt.figure(figsize=[10,8])\n",
    "plt.yscale('log')\n",
    "df_noduplicates['session_id_date'].value_counts().hist(bins=50)\n",
    "plt.ylabel('Frequency',fontsize=15)\n",
    "plt.xlabel('Number of visit_ids with the same session_id',fontsize=15)"
   ]
  },
  {
   "cell_type": "markdown",
   "metadata": {},
   "source": [
    "Next few examples illustrate how the same session id can be assigned multiple visit ids."
   ]
  },
  {
   "cell_type": "code",
   "execution_count": 51,
   "metadata": {},
   "outputs": [
    {
     "data": {
      "text/html": [
       "<div>\n",
       "<style scoped>\n",
       "    .dataframe tbody tr th:only-of-type {\n",
       "        vertical-align: middle;\n",
       "    }\n",
       "\n",
       "    .dataframe tbody tr th {\n",
       "        vertical-align: top;\n",
       "    }\n",
       "\n",
       "    .dataframe thead th {\n",
       "        text-align: right;\n",
       "    }\n",
       "</style>\n",
       "<table border=\"1\" class=\"dataframe\">\n",
       "  <thead>\n",
       "    <tr style=\"text-align: right;\">\n",
       "      <th></th>\n",
       "      <th>hashed_id</th>\n",
       "      <th>user_id</th>\n",
       "      <th>source</th>\n",
       "      <th>page_name</th>\n",
       "      <th>visit_id</th>\n",
       "      <th>time_spent_per_visit</th>\n",
       "      <th>dt</th>\n",
       "      <th>event_start_datetime</th>\n",
       "      <th>previous_time</th>\n",
       "      <th>difference</th>\n",
       "      <th>session_boolean</th>\n",
       "      <th>non_unique_session_id</th>\n",
       "      <th>session_id</th>\n",
       "      <th>visit_id_date</th>\n",
       "      <th>session_id_date</th>\n",
       "    </tr>\n",
       "  </thead>\n",
       "  <tbody>\n",
       "  </tbody>\n",
       "</table>\n",
       "</div>"
      ],
      "text/plain": [
       "Empty DataFrame\n",
       "Columns: [hashed_id, user_id, source, page_name, visit_id, time_spent_per_visit, dt, event_start_datetime, previous_time, difference, session_boolean, non_unique_session_id, session_id, visit_id_date, session_id_date]\n",
       "Index: []"
      ]
     },
     "execution_count": 51,
     "metadata": {},
     "output_type": "execute_result"
    }
   ],
   "source": [
    "df[df['session_id_date']=='2019090980']"
   ]
  },
  {
   "cell_type": "code",
   "execution_count": 52,
   "metadata": {},
   "outputs": [
    {
     "data": {
      "text/html": [
       "<div>\n",
       "<style scoped>\n",
       "    .dataframe tbody tr th:only-of-type {\n",
       "        vertical-align: middle;\n",
       "    }\n",
       "\n",
       "    .dataframe tbody tr th {\n",
       "        vertical-align: top;\n",
       "    }\n",
       "\n",
       "    .dataframe thead th {\n",
       "        text-align: right;\n",
       "    }\n",
       "</style>\n",
       "<table border=\"1\" class=\"dataframe\">\n",
       "  <thead>\n",
       "    <tr style=\"text-align: right;\">\n",
       "      <th></th>\n",
       "      <th>hashed_id</th>\n",
       "      <th>user_id</th>\n",
       "      <th>source</th>\n",
       "      <th>page_name</th>\n",
       "      <th>visit_id</th>\n",
       "      <th>time_spent_per_visit</th>\n",
       "      <th>dt</th>\n",
       "      <th>event_start_datetime</th>\n",
       "      <th>previous_time</th>\n",
       "      <th>difference</th>\n",
       "      <th>session_boolean</th>\n",
       "      <th>non_unique_session_id</th>\n",
       "      <th>session_id</th>\n",
       "      <th>visit_id_date</th>\n",
       "      <th>session_id_date</th>\n",
       "    </tr>\n",
       "  </thead>\n",
       "  <tbody>\n",
       "  </tbody>\n",
       "</table>\n",
       "</div>"
      ],
      "text/plain": [
       "Empty DataFrame\n",
       "Columns: [hashed_id, user_id, source, page_name, visit_id, time_spent_per_visit, dt, event_start_datetime, previous_time, difference, session_boolean, non_unique_session_id, session_id, visit_id_date, session_id_date]\n",
       "Index: []"
      ]
     },
     "execution_count": 52,
     "metadata": {},
     "output_type": "execute_result"
    }
   ],
   "source": [
    "df[df['session_id_date']=='20190901109']"
   ]
  },
  {
   "cell_type": "code",
   "execution_count": 53,
   "metadata": {},
   "outputs": [
    {
     "data": {
      "text/html": [
       "<div>\n",
       "<style scoped>\n",
       "    .dataframe tbody tr th:only-of-type {\n",
       "        vertical-align: middle;\n",
       "    }\n",
       "\n",
       "    .dataframe tbody tr th {\n",
       "        vertical-align: top;\n",
       "    }\n",
       "\n",
       "    .dataframe thead th {\n",
       "        text-align: right;\n",
       "    }\n",
       "</style>\n",
       "<table border=\"1\" class=\"dataframe\">\n",
       "  <thead>\n",
       "    <tr style=\"text-align: right;\">\n",
       "      <th></th>\n",
       "      <th>hashed_id</th>\n",
       "      <th>user_id</th>\n",
       "      <th>source</th>\n",
       "      <th>page_name</th>\n",
       "      <th>visit_id</th>\n",
       "      <th>time_spent_per_visit</th>\n",
       "      <th>dt</th>\n",
       "      <th>event_start_datetime</th>\n",
       "      <th>previous_time</th>\n",
       "      <th>difference</th>\n",
       "      <th>session_boolean</th>\n",
       "      <th>non_unique_session_id</th>\n",
       "      <th>session_id</th>\n",
       "      <th>visit_id_date</th>\n",
       "      <th>session_id_date</th>\n",
       "    </tr>\n",
       "  </thead>\n",
       "  <tbody>\n",
       "  </tbody>\n",
       "</table>\n",
       "</div>"
      ],
      "text/plain": [
       "Empty DataFrame\n",
       "Columns: [hashed_id, user_id, source, page_name, visit_id, time_spent_per_visit, dt, event_start_datetime, previous_time, difference, session_boolean, non_unique_session_id, session_id, visit_id_date, session_id_date]\n",
       "Index: []"
      ]
     },
     "execution_count": 53,
     "metadata": {},
     "output_type": "execute_result"
    }
   ],
   "source": [
    "df[df['session_id_date']=='20190929132']"
   ]
  },
  {
   "cell_type": "code",
   "execution_count": 54,
   "metadata": {},
   "outputs": [
    {
     "data": {
      "text/html": [
       "<div>\n",
       "<style scoped>\n",
       "    .dataframe tbody tr th:only-of-type {\n",
       "        vertical-align: middle;\n",
       "    }\n",
       "\n",
       "    .dataframe tbody tr th {\n",
       "        vertical-align: top;\n",
       "    }\n",
       "\n",
       "    .dataframe thead th {\n",
       "        text-align: right;\n",
       "    }\n",
       "</style>\n",
       "<table border=\"1\" class=\"dataframe\">\n",
       "  <thead>\n",
       "    <tr style=\"text-align: right;\">\n",
       "      <th></th>\n",
       "      <th>hashed_id</th>\n",
       "      <th>user_id</th>\n",
       "      <th>source</th>\n",
       "      <th>page_name</th>\n",
       "      <th>visit_id</th>\n",
       "      <th>time_spent_per_visit</th>\n",
       "      <th>dt</th>\n",
       "      <th>event_start_datetime</th>\n",
       "      <th>previous_time</th>\n",
       "      <th>difference</th>\n",
       "      <th>session_boolean</th>\n",
       "      <th>non_unique_session_id</th>\n",
       "      <th>session_id</th>\n",
       "      <th>visit_id_date</th>\n",
       "      <th>session_id_date</th>\n",
       "    </tr>\n",
       "  </thead>\n",
       "  <tbody>\n",
       "  </tbody>\n",
       "</table>\n",
       "</div>"
      ],
      "text/plain": [
       "Empty DataFrame\n",
       "Columns: [hashed_id, user_id, source, page_name, visit_id, time_spent_per_visit, dt, event_start_datetime, previous_time, difference, session_boolean, non_unique_session_id, session_id, visit_id_date, session_id_date]\n",
       "Index: []"
      ]
     },
     "execution_count": 54,
     "metadata": {},
     "output_type": "execute_result"
    }
   ],
   "source": [
    "df[df['session_id_date']=='20190902292']"
   ]
  },
  {
   "cell_type": "code",
   "execution_count": 55,
   "metadata": {},
   "outputs": [
    {
     "data": {
      "text/html": [
       "<div>\n",
       "<style scoped>\n",
       "    .dataframe tbody tr th:only-of-type {\n",
       "        vertical-align: middle;\n",
       "    }\n",
       "\n",
       "    .dataframe tbody tr th {\n",
       "        vertical-align: top;\n",
       "    }\n",
       "\n",
       "    .dataframe thead th {\n",
       "        text-align: right;\n",
       "    }\n",
       "</style>\n",
       "<table border=\"1\" class=\"dataframe\">\n",
       "  <thead>\n",
       "    <tr style=\"text-align: right;\">\n",
       "      <th></th>\n",
       "      <th>hashed_id</th>\n",
       "      <th>user_id</th>\n",
       "      <th>source</th>\n",
       "      <th>page_name</th>\n",
       "      <th>visit_id</th>\n",
       "      <th>time_spent_per_visit</th>\n",
       "      <th>dt</th>\n",
       "      <th>event_start_datetime</th>\n",
       "      <th>previous_time</th>\n",
       "      <th>difference</th>\n",
       "      <th>session_boolean</th>\n",
       "      <th>non_unique_session_id</th>\n",
       "      <th>session_id</th>\n",
       "      <th>visit_id_date</th>\n",
       "      <th>session_id_date</th>\n",
       "    </tr>\n",
       "  </thead>\n",
       "  <tbody>\n",
       "  </tbody>\n",
       "</table>\n",
       "</div>"
      ],
      "text/plain": [
       "Empty DataFrame\n",
       "Columns: [hashed_id, user_id, source, page_name, visit_id, time_spent_per_visit, dt, event_start_datetime, previous_time, difference, session_boolean, non_unique_session_id, session_id, visit_id_date, session_id_date]\n",
       "Index: []"
      ]
     },
     "execution_count": 55,
     "metadata": {},
     "output_type": "execute_result"
    }
   ],
   "source": [
    "df[df['session_id_date']=='2019091620']"
   ]
  },
  {
   "cell_type": "markdown",
   "metadata": {},
   "source": [
    "Differences between a visit_id and a a session_id:\n",
    "\n",
    "-a new session id is initiated if no activitity was registered for more than 30 minutes\n",
    "\n",
    "-a new visit is is initiated if no activitity was registered for more than 30 minutes, but sometimes it gets initiated more often. We are not sure why.\n"
   ]
  },
  {
   "cell_type": "code",
   "execution_count": 56,
   "metadata": {},
   "outputs": [
    {
     "data": {
      "text/plain": [
       "201909132848641    1\n",
       "20190912284431     1\n",
       "201909044009652    1\n",
       "20190906620211     1\n",
       "20190924390132     1\n",
       "                  ..\n",
       "20190924315012     1\n",
       "201909163229461    1\n",
       "201909062249861    1\n",
       "20190919827361     1\n",
       "201909132540381    1\n",
       "Name: visit_id_date, Length: 9973, dtype: int64"
      ]
     },
     "execution_count": 56,
     "metadata": {},
     "output_type": "execute_result"
    }
   ],
   "source": [
    "df_noduplicates['visit_id_date'].value_counts()"
   ]
  },
  {
   "cell_type": "markdown",
   "metadata": {},
   "source": [
    "An visit_id field has only one session_id field that corresponds to it."
   ]
  },
  {
   "cell_type": "code",
   "execution_count": 58,
   "metadata": {},
   "outputs": [
    {
     "data": {
      "text/html": [
       "<div>\n",
       "<style scoped>\n",
       "    .dataframe tbody tr th:only-of-type {\n",
       "        vertical-align: middle;\n",
       "    }\n",
       "\n",
       "    .dataframe tbody tr th {\n",
       "        vertical-align: top;\n",
       "    }\n",
       "\n",
       "    .dataframe thead th {\n",
       "        text-align: right;\n",
       "    }\n",
       "</style>\n",
       "<table border=\"1\" class=\"dataframe\">\n",
       "  <thead>\n",
       "    <tr style=\"text-align: right;\">\n",
       "      <th></th>\n",
       "      <th>index</th>\n",
       "      <th>session_id_date</th>\n",
       "    </tr>\n",
       "  </thead>\n",
       "  <tbody>\n",
       "    <tr>\n",
       "      <td>0</td>\n",
       "      <td>2019091820190918135</td>\n",
       "      <td>235</td>\n",
       "    </tr>\n",
       "    <tr>\n",
       "      <td>1</td>\n",
       "      <td>201909152019091553</td>\n",
       "      <td>113</td>\n",
       "    </tr>\n",
       "    <tr>\n",
       "      <td>2</td>\n",
       "      <td>2019092720190927109</td>\n",
       "      <td>107</td>\n",
       "    </tr>\n",
       "    <tr>\n",
       "      <td>3</td>\n",
       "      <td>201909262019092627</td>\n",
       "      <td>102</td>\n",
       "    </tr>\n",
       "    <tr>\n",
       "      <td>4</td>\n",
       "      <td>2019090420190904302</td>\n",
       "      <td>77</td>\n",
       "    </tr>\n",
       "    <tr>\n",
       "      <td>...</td>\n",
       "      <td>...</td>\n",
       "      <td>...</td>\n",
       "    </tr>\n",
       "    <tr>\n",
       "      <td>9292</td>\n",
       "      <td>201909282019092812</td>\n",
       "      <td>1</td>\n",
       "    </tr>\n",
       "    <tr>\n",
       "      <td>9293</td>\n",
       "      <td>2019090720190907315</td>\n",
       "      <td>1</td>\n",
       "    </tr>\n",
       "    <tr>\n",
       "      <td>9294</td>\n",
       "      <td>2019092820190928184</td>\n",
       "      <td>1</td>\n",
       "    </tr>\n",
       "    <tr>\n",
       "      <td>9295</td>\n",
       "      <td>20190912201909122</td>\n",
       "      <td>1</td>\n",
       "    </tr>\n",
       "    <tr>\n",
       "      <td>9296</td>\n",
       "      <td>2019090520190905206</td>\n",
       "      <td>1</td>\n",
       "    </tr>\n",
       "  </tbody>\n",
       "</table>\n",
       "<p>9297 rows × 2 columns</p>\n",
       "</div>"
      ],
      "text/plain": [
       "                    index  session_id_date\n",
       "0     2019091820190918135              235\n",
       "1      201909152019091553              113\n",
       "2     2019092720190927109              107\n",
       "3      201909262019092627              102\n",
       "4     2019090420190904302               77\n",
       "...                   ...              ...\n",
       "9292   201909282019092812                1\n",
       "9293  2019090720190907315                1\n",
       "9294  2019092820190928184                1\n",
       "9295    20190912201909122                1\n",
       "9296  2019090520190905206                1\n",
       "\n",
       "[9297 rows x 2 columns]"
      ]
     },
     "execution_count": 58,
     "metadata": {},
     "output_type": "execute_result"
    }
   ],
   "source": [
    "#Count number of events registered per session\n",
    "aux_df=df['session_id_date'].value_counts().reset_index()\n",
    "aux_df"
   ]
  },
  {
   "cell_type": "code",
   "execution_count": 59,
   "metadata": {},
   "outputs": [
    {
     "data": {
      "text/html": [
       "<div>\n",
       "<style scoped>\n",
       "    .dataframe tbody tr th:only-of-type {\n",
       "        vertical-align: middle;\n",
       "    }\n",
       "\n",
       "    .dataframe tbody tr th {\n",
       "        vertical-align: top;\n",
       "    }\n",
       "\n",
       "    .dataframe thead th {\n",
       "        text-align: right;\n",
       "    }\n",
       "</style>\n",
       "<table border=\"1\" class=\"dataframe\">\n",
       "  <thead>\n",
       "    <tr style=\"text-align: right;\">\n",
       "      <th></th>\n",
       "      <th>index</th>\n",
       "      <th>visit_id_date</th>\n",
       "    </tr>\n",
       "  </thead>\n",
       "  <tbody>\n",
       "    <tr>\n",
       "      <td>0</td>\n",
       "      <td>201909183984862</td>\n",
       "      <td>235</td>\n",
       "    </tr>\n",
       "    <tr>\n",
       "      <td>1</td>\n",
       "      <td>201909152869751</td>\n",
       "      <td>113</td>\n",
       "    </tr>\n",
       "    <tr>\n",
       "      <td>2</td>\n",
       "      <td>201909271082922</td>\n",
       "      <td>107</td>\n",
       "    </tr>\n",
       "    <tr>\n",
       "      <td>3</td>\n",
       "      <td>20190926257642</td>\n",
       "      <td>80</td>\n",
       "    </tr>\n",
       "    <tr>\n",
       "      <td>4</td>\n",
       "      <td>20190904152222</td>\n",
       "      <td>77</td>\n",
       "    </tr>\n",
       "    <tr>\n",
       "      <td>...</td>\n",
       "      <td>...</td>\n",
       "      <td>...</td>\n",
       "    </tr>\n",
       "    <tr>\n",
       "      <td>9968</td>\n",
       "      <td>201909081036971</td>\n",
       "      <td>1</td>\n",
       "    </tr>\n",
       "    <tr>\n",
       "      <td>9969</td>\n",
       "      <td>201909173090541</td>\n",
       "      <td>1</td>\n",
       "    </tr>\n",
       "    <tr>\n",
       "      <td>9970</td>\n",
       "      <td>201909244306001</td>\n",
       "      <td>1</td>\n",
       "    </tr>\n",
       "    <tr>\n",
       "      <td>9971</td>\n",
       "      <td>201909171213121</td>\n",
       "      <td>1</td>\n",
       "    </tr>\n",
       "    <tr>\n",
       "      <td>9972</td>\n",
       "      <td>201909132540381</td>\n",
       "      <td>1</td>\n",
       "    </tr>\n",
       "  </tbody>\n",
       "</table>\n",
       "<p>9973 rows × 2 columns</p>\n",
       "</div>"
      ],
      "text/plain": [
       "                index  visit_id_date\n",
       "0     201909183984862            235\n",
       "1     201909152869751            113\n",
       "2     201909271082922            107\n",
       "3      20190926257642             80\n",
       "4      20190904152222             77\n",
       "...               ...            ...\n",
       "9968  201909081036971              1\n",
       "9969  201909173090541              1\n",
       "9970  201909244306001              1\n",
       "9971  201909171213121              1\n",
       "9972  201909132540381              1\n",
       "\n",
       "[9973 rows x 2 columns]"
      ]
     },
     "execution_count": 59,
     "metadata": {},
     "output_type": "execute_result"
    }
   ],
   "source": [
    "#Count number of events registered per visit\n",
    "aux2_df=df['visit_id_date'].value_counts().reset_index()\n",
    "aux2_df"
   ]
  },
  {
   "cell_type": "code",
   "execution_count": 60,
   "metadata": {},
   "outputs": [
    {
     "data": {
      "image/png": "[encoded data removed]",
      "text/plain": [
       "<Figure size 432x288 with 1 Axes>"
      ]
     },
     "metadata": {
      "needs_background": "light"
     },
     "output_type": "display_data"
    }
   ],
   "source": [
    "x=aux_df[aux_df['session_id_date']<25]['session_id_date']\n",
    "y=aux2_df[aux2_df['visit_id_date']<25]['visit_id_date']\n",
    "\n",
    "plt.hist([x, y], bins=20, label=['session_id','visit_id'])\n",
    "plt.legend(loc='upper right')\n",
    "plt.ylabel('Frequency',fontsize=15)\n",
    "plt.xlabel('Number of events',fontsize=15)\n",
    "plt.show()\n"
   ]
  },
  {
   "cell_type": "markdown",
   "metadata": {},
   "source": [
    "This plot confirms our earlier expactations: \n",
    "\n",
    "on average an individual visit_id corresponds to fewer events than an individual session_id."
   ]
  },
  {
   "cell_type": "code",
   "execution_count": null,
   "metadata": {},
   "outputs": [],
   "source": []
  }
 ],
 "metadata": {
  "kernelspec": {
   "display_name": "Python 3",
   "language": "python",
   "name": "python3"
  },
  "language_info": {
   "codemirror_mode": {
    "name": "ipython",
    "version": 3
   },
   "file_extension": ".py",
   "mimetype": "text/x-python",
   "name": "python",
   "nbconvert_exporter": "python",
   "pygments_lexer": "ipython3",
   "version": "3.7.4"
  }
 },
 "nbformat": 4,
 "nbformat_minor": 2
}
